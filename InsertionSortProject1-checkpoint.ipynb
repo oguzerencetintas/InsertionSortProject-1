{
 "cells": [
  {
   "cell_type": "markdown",
   "id": "33c020ae",
   "metadata": {},
   "source": [
    "#Proje 1\n",
    "\n",
    "[22,27,16,2,18,6] -> Insertion Sort\n",
    "\n",
    "Yukarıda verilen dizinin sort türüne göre aşamalarını yazınız"
   ]
  },
  {
   "cell_type": "code",
   "execution_count": 2,
   "id": "697f93f3",
   "metadata": {
    "ExecuteTime": {
     "end_time": "2024-01-24T09:57:36.133609Z",
     "start_time": "2024-01-24T09:57:36.125551Z"
    },
    "scrolled": true
   },
   "outputs": [
    {
     "data": {
      "text/plain": [
       "[2, 6, 16, 18, 22, 27]"
      ]
     },
     "execution_count": 2,
     "metadata": {},
     "output_type": "execute_result"
    }
   ],
   "source": [
    "[22,27,16,2,18,6]\n",
    "[2,27,16,22,18,6]\n",
    "[2,6,16,22,18,27]\n",
    "[2,6,16,18,22,27]"
   ]
  },
  {
   "cell_type": "markdown",
   "id": "677ce491",
   "metadata": {},
   "source": [
    "#Big-O gösterimini yazınız."
   ]
  },
  {
   "cell_type": "markdown",
   "id": "c45352f6",
   "metadata": {
    "ExecuteTime": {
     "end_time": "2024-01-24T11:12:20.152237Z",
     "start_time": "2024-01-24T11:12:19.897984Z"
    }
   },
   "source": [
    "O(N^2)"
   ]
  },
  {
   "cell_type": "markdown",
   "id": "31700178",
   "metadata": {},
   "source": [
    "#Time Complexity: Dizi sıralandıktan sonra 18 sayısı aşağıdaki case'lerden hangisinin kapsamına girer? Yazınız\n",
    "\n",
    "Average case: Aradığımız sayının ortada olması\n",
    "Worst case: Aradığımız sayının sonda olması\n",
    "Best case: Aradığımız sayının dizinin en başında olması."
   ]
  },
  {
   "cell_type": "markdown",
   "id": "d81f6232",
   "metadata": {},
   "source": [
    "Avarage case kapsamına girer."
   ]
  },
  {
   "cell_type": "markdown",
   "id": "e2d9129c",
   "metadata": {
    "run_control": {
     "marked": true
    }
   },
   "source": [
    "#[7,3,5,8,2,9,4,15,6] dizisinin Selection Sort'a göre ilk 4 adımını yazınız"
   ]
  },
  {
   "cell_type": "code",
   "execution_count": 4,
   "id": "995897d5",
   "metadata": {
    "ExecuteTime": {
     "end_time": "2024-01-24T11:17:38.335220Z",
     "start_time": "2024-01-24T11:17:38.328937Z"
    }
   },
   "outputs": [
    {
     "data": {
      "text/plain": [
       "[2, 3, 4, 5, 6, 9, 8, 15, 7]"
      ]
     },
     "execution_count": 4,
     "metadata": {},
     "output_type": "execute_result"
    }
   ],
   "source": [
    "[7,3,5,8,2,9,4,15,6]\n",
    "[2,3,5,8,7,9,4,15,6]\n",
    "[2,3,4,8,7,9,5,15,6]\n",
    "[2,3,4,5,7,9,8,15,6]\n",
    "[2,3,4,5,6,9,8,15,7]"
   ]
  },
  {
   "cell_type": "code",
   "execution_count": null,
   "id": "18c9e512",
   "metadata": {},
   "outputs": [],
   "source": []
  }
 ],
 "metadata": {
  "hide_input": false,
  "kernelspec": {
   "display_name": "Python 3 (ipykernel)",
   "language": "python",
   "name": "python3"
  },
  "language_info": {
   "codemirror_mode": {
    "name": "ipython",
    "version": 3
   },
   "file_extension": ".py",
   "mimetype": "text/x-python",
   "name": "python",
   "nbconvert_exporter": "python",
   "pygments_lexer": "ipython3",
   "version": "3.11.5"
  },
  "toc": {
   "base_numbering": 1,
   "nav_menu": {},
   "number_sections": true,
   "sideBar": true,
   "skip_h1_title": false,
   "title_cell": "Table of Contents",
   "title_sidebar": "Contents",
   "toc_cell": false,
   "toc_position": {},
   "toc_section_display": true,
   "toc_window_display": false
  },
  "varInspector": {
   "cols": {
    "lenName": 16,
    "lenType": 16,
    "lenVar": 40
   },
   "kernels_config": {
    "python": {
     "delete_cmd_postfix": "",
     "delete_cmd_prefix": "del ",
     "library": "var_list.py",
     "varRefreshCmd": "print(var_dic_list())"
    },
    "r": {
     "delete_cmd_postfix": ") ",
     "delete_cmd_prefix": "rm(",
     "library": "var_list.r",
     "varRefreshCmd": "cat(var_dic_list()) "
    }
   },
   "types_to_exclude": [
    "module",
    "function",
    "builtin_function_or_method",
    "instance",
    "_Feature"
   ],
   "window_display": false
  }
 },
 "nbformat": 4,
 "nbformat_minor": 5
}
